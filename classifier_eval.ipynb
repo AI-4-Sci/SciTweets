{
 "cells": [
  {
   "cell_type": "code",
   "execution_count": 1,
   "metadata": {
    "pycharm": {
     "is_executing": true
    }
   },
   "outputs": [],
   "source": [
    "import pandas as pd\n",
    "from sklearn.metrics import precision_score, confusion_matrix, ConfusionMatrixDisplay, classification_report, precision_recall_curve\n",
    "import matplotlib.pyplot as plt\n",
    "import matplotlib as mpl"
   ]
  },
  {
   "cell_type": "code",
   "execution_count": 2,
   "metadata": {
    "pycharm": {
     "name": "#%%\n"
    }
   },
   "outputs": [],
   "source": [
    "def plot_pr_curve(x, y, x_label=\"\", y_label=\"\", min_y=0, max_y=1):\n",
    "    fig, ax = plt.subplots(figsize=(5, 2.8))\n",
    "    ax.plot(x, y)\n",
    "\n",
    "    ax.tick_params(axis='x', rotation=90)\n",
    "    ax.spines['right'].set_visible(False)\n",
    "    ax.spines['top'].set_visible(False)\n",
    "    ax.set_xlabel(x_label)\n",
    "    ax.set_ylabel(y_label)\n",
    "\n",
    "    ax.yaxis.set_tick_params(which='major', width=1, direction='inout')\n",
    "    ax.yaxis.set_tick_params(which='minor', width=1, direction='inout')\n",
    "\n",
    "    major_step = (max_y-min_y)/5\n",
    "    minor_step = (max_y-min_y)/10\n",
    "\n",
    "    ax.yaxis.set_major_locator(mpl.ticker.MultipleLocator(major_step))\n",
    "    ax.yaxis.set_minor_locator(mpl.ticker.MultipleLocator(minor_step))\n",
    "\n",
    "    ax.set_ylim(min_y, max_y)\n",
    "\n",
    "    plt.show()"
   ]
  },
  {
   "cell_type": "markdown",
   "metadata": {},
   "source": [
    "Evaluation of Precision, Recall and F1-score for 10-fold CV predictions"
   ]
  },
  {
   "cell_type": "markdown",
   "metadata": {},
   "source": [
    "Evaluation for binary task, given a tweet predict if it is related or unrelated to science"
   ]
  },
  {
   "cell_type": "code",
   "execution_count": 3,
   "metadata": {
    "pycharm": {
     "name": "#%%\n"
    }
   },
   "outputs": [],
   "source": [
    "cv_predictions = pd.read_csv('classifier_preds/scibert_cv_predictions.tsv', sep='\\t')"
   ]
  },
  {
   "cell_type": "markdown",
   "metadata": {},
   "source": []
  },
  {
   "cell_type": "code",
   "execution_count": 4,
   "metadata": {
    "pycharm": {
     "name": "#%%\n"
    }
   },
   "outputs": [
    {
     "name": "stdout",
     "output_type": "stream",
     "text": [
      "Classification Report and Confusion Matrix for the binary task, given a Tweet predict if it is related or unrelated to science:\n",
      "Classification Report:\n",
      "               precision    recall  f1-score   support\n",
      "\n",
      "       False     0.9267    0.9303    0.9285       775\n",
      "        True     0.8470    0.8399    0.8434       356\n",
      "\n",
      "    accuracy                         0.9019      1131\n",
      "   macro avg     0.8869    0.8851    0.8860      1131\n",
      "weighted avg     0.9016    0.9019    0.9017      1131\n",
      "\n",
      "\n",
      "Confusion matrix:\n"
     ]
    },
    {
     "data": {
      "image/png": "[encoded data removed]",
      "text/plain": [
       "<Figure size 432x288 with 1 Axes>"
      ]
     },
     "metadata": {
      "needs_background": "light"
     },
     "output_type": "display_data"
    }
   ],
   "source": [
    "print(f\"Classification Report and Confusion Matrix for the binary task, given a Tweet predict if it is related or unrelated to science:\")\n",
    "cv_predictions['pos_prediction'] = (cv_predictions['cat1_pred'] == 1) | (cv_predictions['cat2_pred'] == 1) | (cv_predictions['cat3_pred'] == 1)\n",
    "cv_predictions['pos_label'] = (cv_predictions['cat1_final_answer'] == 1) | (cv_predictions['cat2_final_answer'] == 1) | (cv_predictions['cat3_final_answer'] == 1)\n",
    "\n",
    "cm = confusion_matrix(cv_predictions['pos_label'], cv_predictions['pos_prediction'], labels=[1, 0])\n",
    "disp = ConfusionMatrixDisplay(confusion_matrix=cm, display_labels=[1, 0])\n",
    "\n",
    "print(f\"Classification Report:\\n {classification_report(cv_predictions['pos_label'], cv_predictions['pos_prediction'], digits=4)}\\n\")\n",
    "\n",
    "print(f\"Confusion matrix:\")\n",
    "disp.plot(include_values=True, cmap='gist_gray_r', ax=None, xticks_rotation='horizontal', values_format=None, colorbar=False)\n",
    "plt.show()\n",
    "\n"
   ]
  },
  {
   "cell_type": "code",
   "execution_count": 5,
   "metadata": {
    "pycharm": {
     "name": "#%%\n"
    }
   },
   "outputs": [
    {
     "name": "stdout",
     "output_type": "stream",
     "text": [
      "Number of False Positives: 54\n",
      "Number of Tweets where Cat1.1 FP lead to Cat1 FP: 40\n",
      "Number of Tweets where Cat1.2 FP lead to Cat1 FP: 13\n",
      "Number of Tweets where Cat1.3 FP lead to Cat1 FP: 20\n"
     ]
    }
   ],
   "source": [
    "false_positives = cv_predictions[(cv_predictions['pos_label']==0) & (cv_predictions['pos_prediction']==1)]\n",
    "print(f'Number of False Positives: {len(false_positives)}')\n",
    "num_cat1_fp = false_positives['cat1_pred'].value_counts().loc[1]\n",
    "num_cat2_fp = false_positives['cat2_pred'].value_counts().loc[1]\n",
    "num_cat3_fp = false_positives['cat3_pred'].value_counts().loc[1]\n",
    "print(f'Number of Tweets where Cat1.1 FP lead to Cat1 FP: {num_cat1_fp}')\n",
    "print(f'Number of Tweets where Cat1.2 FP lead to Cat1 FP: {num_cat2_fp}')\n",
    "print(f'Number of Tweets where Cat1.3 FP lead to Cat1 FP: {num_cat3_fp}')"
   ]
  },
  {
   "cell_type": "code",
   "execution_count": 6,
   "metadata": {
    "pycharm": {
     "name": "#%%\n"
    }
   },
   "outputs": [
    {
     "name": "stdout",
     "output_type": "stream",
     "text": [
      "Number of False Negatives: 57\n",
      "Number of Tweets where Cat1.1 FN lead to Cat1 FN: 35\n",
      "Number of Tweets where Cat1.2 FN lead to Cat1 FN: 13\n",
      "Number of Tweets where Cat1.3 FN lead to Cat1 FN: 28\n"
     ]
    }
   ],
   "source": [
    "false_negatives = cv_predictions[(cv_predictions['pos_label']==1) & (cv_predictions['pos_prediction']==0)]\n",
    "print(f'Number of False Negatives: {len(false_negatives)}')\n",
    "num_cat1_fn = false_negatives['cat1_final_answer'].value_counts().loc[1]\n",
    "num_cat2_fn = false_negatives['cat2_final_answer'].value_counts().loc[1]\n",
    "num_cat3_fn = false_negatives['cat3_final_answer'].value_counts().loc[1]\n",
    "print(f'Number of Tweets where Cat1.1 FN lead to Cat1 FN: {num_cat1_fn}')\n",
    "print(f'Number of Tweets where Cat1.2 FN lead to Cat1 FN: {num_cat2_fn}')\n",
    "print(f'Number of Tweets where Cat1.3 FN lead to Cat1 FN: {num_cat3_fn}')"
   ]
  },
  {
   "cell_type": "markdown",
   "metadata": {},
   "source": [
    "Evaluation of multilabel task, given a tweet predict the subcategories of science-relatedness"
   ]
  },
  {
   "cell_type": "markdown",
   "metadata": {},
   "source": [
    "Category 1.1"
   ]
  },
  {
   "cell_type": "code",
   "execution_count": 7,
   "metadata": {
    "pycharm": {
     "name": "#%%\n"
    }
   },
   "outputs": [
    {
     "name": "stdout",
     "output_type": "stream",
     "text": [
      "Classification Report:\n",
      "               precision    recall  f1-score   support\n",
      "\n",
      "       False     0.9439    0.9212    0.9324       876\n",
      "        True     0.7500    0.8118    0.7797       255\n",
      "\n",
      "    accuracy                         0.8966      1131\n",
      "   macro avg     0.8469    0.8665    0.8560      1131\n",
      "weighted avg     0.9002    0.8966    0.8980      1131\n",
      "\n",
      "\n",
      "Confusion matrix:\n"
     ]
    },
    {
     "data": {
      "image/png": "[encoded data removed]",
      "text/plain": [
       "<Figure size 432x288 with 1 Axes>"
      ]
     },
     "metadata": {
      "needs_background": "light"
     },
     "output_type": "display_data"
    }
   ],
   "source": [
    "cat = 'cat1'\n",
    "cv_predictions['pos_prediction'] = cv_predictions[f'{cat}_pred'] == 1\n",
    "cv_predictions['pos_label'] = cv_predictions[f'{cat}_final_answer'] == 1\n",
    "\n",
    "cm = confusion_matrix(cv_predictions['pos_label'], cv_predictions['pos_prediction'], labels=[1, 0])\n",
    "disp = ConfusionMatrixDisplay(confusion_matrix=cm, display_labels=[1, 0])\n",
    "\n",
    "print(f\"Classification Report:\\n {classification_report(cv_predictions['pos_label'], cv_predictions['pos_prediction'], digits=4)}\\n\")\n",
    "\n",
    "print(f\"Confusion matrix:\")\n",
    "disp.plot(include_values=True, cmap='gist_gray_r', ax=None, xticks_rotation='horizontal', values_format=None, colorbar=False)\n",
    "plt.show()"
   ]
  },
  {
   "cell_type": "code",
   "execution_count": 8,
   "metadata": {
    "pycharm": {
     "name": "#%%\n"
    }
   },
   "outputs": [
    {
     "data": {
      "image/png": "[encoded data removed]",
      "text/plain": [
       "<Figure size 360x201.6 with 1 Axes>"
      ]
     },
     "metadata": {
      "needs_background": "light"
     },
     "output_type": "display_data"
    }
   ],
   "source": [
    "p, r, _ = precision_recall_curve(cv_predictions['cat1_final_answer'],cv_predictions['cat1_score'])\n",
    "plot_pr_curve(r, p, x_label='Recall', y_label='Precision')"
   ]
  },
  {
   "cell_type": "markdown",
   "metadata": {},
   "source": [
    "Category 1.2"
   ]
  },
  {
   "cell_type": "code",
   "execution_count": 9,
   "metadata": {
    "pycharm": {
     "name": "#%%\n"
    }
   },
   "outputs": [
    {
     "name": "stdout",
     "output_type": "stream",
     "text": [
      "Classification Report:\n",
      "               precision    recall  f1-score   support\n",
      "\n",
      "       False     0.9544    0.9523    0.9533       944\n",
      "        True     0.7619    0.7701    0.7660       187\n",
      "\n",
      "    accuracy                         0.9222      1131\n",
      "   macro avg     0.8581    0.8612    0.8596      1131\n",
      "weighted avg     0.9225    0.9222    0.9224      1131\n",
      "\n",
      "\n",
      "Confusion matrix:\n"
     ]
    },
    {
     "data": {
      "image/png": "[encoded data removed]",
      "text/plain": [
       "<Figure size 432x288 with 1 Axes>"
      ]
     },
     "metadata": {
      "needs_background": "light"
     },
     "output_type": "display_data"
    }
   ],
   "source": [
    "cat = 'cat2'\n",
    "cv_predictions['pos_prediction'] = cv_predictions[f'{cat}_pred'] == 1\n",
    "cv_predictions['pos_label'] = cv_predictions[f'{cat}_final_answer'] == 1\n",
    "\n",
    "cm = confusion_matrix(cv_predictions['pos_label'], cv_predictions['pos_prediction'], labels=[1, 0])\n",
    "disp = ConfusionMatrixDisplay(confusion_matrix=cm, display_labels=[1, 0])\n",
    "\n",
    "print(f\"Classification Report:\\n {classification_report(cv_predictions['pos_label'], cv_predictions['pos_prediction'], digits=4)}\\n\")\n",
    "\n",
    "print(f\"Confusion matrix:\")\n",
    "disp.plot(include_values=True, cmap='gist_gray_r', ax=None, xticks_rotation='horizontal', values_format=None, colorbar=False)\n",
    "plt.show()"
   ]
  },
  {
   "cell_type": "code",
   "execution_count": 10,
   "metadata": {
    "pycharm": {
     "name": "#%%\n"
    }
   },
   "outputs": [
    {
     "data": {
      "image/png": "[encoded data removed]",
      "text/plain": [
       "<Figure size 360x201.6 with 1 Axes>"
      ]
     },
     "metadata": {
      "needs_background": "light"
     },
     "output_type": "display_data"
    }
   ],
   "source": [
    "p, r, _ = precision_recall_curve(cv_predictions['cat2_final_answer'],cv_predictions['cat2_score'])\n",
    "plot_pr_curve(r, p, x_label='Recall', y_label='Precision')"
   ]
  },
  {
   "cell_type": "markdown",
   "metadata": {},
   "source": [
    "Category 1.3"
   ]
  },
  {
   "cell_type": "code",
   "execution_count": 11,
   "metadata": {
    "pycharm": {
     "name": "#%%\n"
    }
   },
   "outputs": [
    {
     "name": "stdout",
     "output_type": "stream",
     "text": [
      "Classification Report:\n",
      "               precision    recall  f1-score   support\n",
      "\n",
      "       False     0.9480    0.9522    0.9501       900\n",
      "        True     0.8106    0.7965    0.8035       231\n",
      "\n",
      "    accuracy                         0.9204      1131\n",
      "   macro avg     0.8793    0.8744    0.8768      1131\n",
      "weighted avg     0.9199    0.9204    0.9202      1131\n",
      "\n",
      "\n",
      "Confusion matrix:\n"
     ]
    },
    {
     "data": {
      "image/png": "[encoded data removed]",
      "text/plain": [
       "<Figure size 432x288 with 1 Axes>"
      ]
     },
     "metadata": {
      "needs_background": "light"
     },
     "output_type": "display_data"
    }
   ],
   "source": [
    "cat = 'cat3'\n",
    "cv_predictions['pos_prediction'] = cv_predictions[f'{cat}_pred'] == 1\n",
    "cv_predictions['pos_label'] = cv_predictions[f'{cat}_final_answer'] == 1\n",
    "\n",
    "cm = confusion_matrix(cv_predictions['pos_label'], cv_predictions['pos_prediction'], labels=[1, 0])\n",
    "disp = ConfusionMatrixDisplay(confusion_matrix=cm, display_labels=[1, 0])\n",
    "\n",
    "print(f\"Classification Report:\\n {classification_report(cv_predictions['pos_label'], cv_predictions['pos_prediction'], digits=4)}\\n\")\n",
    "\n",
    "print(f\"Confusion matrix:\")\n",
    "disp.plot(include_values=True, cmap='gist_gray_r', ax=None, xticks_rotation='horizontal', values_format=None, colorbar=False)\n",
    "plt.show()"
   ]
  },
  {
   "cell_type": "code",
   "execution_count": 12,
   "metadata": {
    "pycharm": {
     "name": "#%%\n"
    }
   },
   "outputs": [
    {
     "data": {
      "image/png": "[encoded data removed]",
      "text/plain": [
       "<Figure size 360x201.6 with 1 Axes>"
      ]
     },
     "metadata": {
      "needs_background": "light"
     },
     "output_type": "display_data"
    }
   ],
   "source": [
    "p, r, _ = precision_recall_curve(cv_predictions['cat3_final_answer'],cv_predictions['cat3_score'])\n",
    "plot_pr_curve(r, p, x_label='Recall', y_label='Precision')"
   ]
  },
  {
   "cell_type": "markdown",
   "metadata": {},
   "source": [
    "Evaluation of Precision@100"
   ]
  },
  {
   "cell_type": "code",
   "execution_count": 18,
   "metadata": {
    "pycharm": {
     "is_executing": true,
     "name": "#%%\n"
    }
   },
   "outputs": [],
   "source": [
    "stage2_predictions = pd.read_csv('classifier_preds/scibert_2stage_predictions.tsv', sep='\\t')[['tweet_id', 'text', 'cat1_final_answer', 'cat2_final_answer', 'cat3_final_answer', 'cat1_score', 'cat2_score', 'cat3_score']]\n",
    "\n",
    "stage2_predictions[['tweet_id', 'cat1_final_answer', 'cat2_final_answer', 'cat3_final_answer', 'cat1_score', 'cat2_score', 'cat3_score']].to_csv('classifier_preds/scibert_2stage_predictions.tsv', sep='\\t', index=False)"
   ]
  },
  {
   "cell_type": "code",
   "execution_count": 14,
   "metadata": {
    "pycharm": {
     "name": "#%%\n"
    }
   },
   "outputs": [
    {
     "name": "stdout",
     "output_type": "stream",
     "text": [
      "Precision of classifier for 100 most confident cat1 predictions: 0.85\n"
     ]
    }
   ],
   "source": [
    "predictions = stage2_predictions.sort_values(by='cat1_score', ascending=False)\n",
    "clf_top100_cat1 = predictions[:100]\n",
    "\n",
    "print(f\"Precision of classifier for 100 most confident cat1 predictions: {precision_score(clf_top100_cat1['cat1_final_answer'], [1]*len(clf_top100_cat1['cat1_final_answer'])):.2f}\")"
   ]
  },
  {
   "cell_type": "code",
   "execution_count": 15,
   "metadata": {
    "pycharm": {
     "name": "#%%\n"
    }
   },
   "outputs": [
    {
     "name": "stdout",
     "output_type": "stream",
     "text": [
      "Precision of classifier for 100 most confident cat2 predictions: 0.74\n"
     ]
    }
   ],
   "source": [
    "predictions = stage2_predictions.sort_values(by='cat2_score', ascending=False)\n",
    "clf_top100_cat2 = predictions[:100]\n",
    "\n",
    "print(f\"Precision of classifier for 100 most confident cat2 predictions: {precision_score(clf_top100_cat2['cat2_final_answer'], [1]*len(clf_top100_cat2['cat2_final_answer'])):.2f}\")"
   ]
  },
  {
   "cell_type": "code",
   "execution_count": 16,
   "metadata": {
    "pycharm": {
     "name": "#%%\n"
    }
   },
   "outputs": [
    {
     "name": "stdout",
     "output_type": "stream",
     "text": [
      "Precision of classifier for 100 most confident cat3 predictions: 0.86\n"
     ]
    }
   ],
   "source": [
    "predictions = stage2_predictions.sort_values(by='cat3_score', ascending=False)\n",
    "clf_top100_cat3 = predictions[:100]\n",
    "\n",
    "print(f\"Precision of classifier for 100 most confident cat3 predictions: {precision_score(clf_top100_cat3['cat3_final_answer'], [1]*len(clf_top100_cat3['cat3_final_answer'])):.2f}\")"
   ]
  }
 ],
 "metadata": {
  "kernelspec": {
   "display_name": "Python 3 (ipykernel)",
   "language": "python",
   "name": "python3"
  },
  "language_info": {
   "codemirror_mode": {
    "name": "ipython",
    "version": 3
   },
   "file_extension": ".py",
   "mimetype": "text/x-python",
   "name": "python",
   "nbconvert_exporter": "python",
   "pygments_lexer": "ipython3",
   "version": "3.9.7"
  }
 },
 "nbformat": 4,
 "nbformat_minor": 1
}